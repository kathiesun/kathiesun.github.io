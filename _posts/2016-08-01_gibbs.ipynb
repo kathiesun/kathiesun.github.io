---
title: 'Baby's first Gibbs' sampler'
date: 2016-08-01
permalink: /posts/2012/08/gibbs-samp/
tags:
  - rotation
  - MCMC
  - grad school
---
